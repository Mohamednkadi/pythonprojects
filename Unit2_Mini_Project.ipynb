{
  "nbformat": 4,
  "nbformat_minor": 0,
  "metadata": {
    "colab": {
      "name": "Unit2_Mini_Project.ipynb",
      "provenance": [],
      "collapsed_sections": [],
      "toc_visible": true,
      "include_colab_link": true
    },
    "kernelspec": {
      "name": "python3",
      "display_name": "Python 3"
    }
  },
  "cells": [
    {
      "cell_type": "markdown",
      "metadata": {
        "id": "view-in-github",
        "colab_type": "text"
      },
      "source": [
        "<a href=\"https://colab.research.google.com/github/Mohamednkadi/pythonprojects/blob/main/Unit2_Mini_Project.ipynb\" target=\"_parent\"><img src=\"https://colab.research.google.com/assets/colab-badge.svg\" alt=\"Open In Colab\"/></a>"
      ]
    },
    {
      "cell_type": "markdown",
      "metadata": {
        "id": "Vgs8Kp4TidFQ"
      },
      "source": [
        "# Intrdouction to Python - Mini Project"
      ]
    },
    {
      "cell_type": "markdown",
      "metadata": {
        "id": "_Hq7Ny79iwgD"
      },
      "source": [
        "#Python Project – Odd or Even\n",
        "\n",
        "Ask the user for a number. Depending on whether the number is even or odd, print out an appropriate message to the user. Hint: how does an even / odd number react differently when divided by 2?\n"
      ]
    },
    {
      "cell_type": "code",
      "metadata": {
        "id": "lotvpVpvlKsR",
        "colab": {
          "base_uri": "https://localhost:8080/"
        },
        "outputId": "e21b9ff0-fd9d-4be3-98aa-78fa812bb858"
      },
      "source": [
        "number = input (\"Please enter an odd or even number : \")\n",
        "print(\"You have entered the number :\" + number)\n",
        "if int(number) % 2 == 0 :\n",
        "  print(\"the number you have entered is an even number\")\n",
        "elif int(number) % 2 == 1:\n",
        "  print(\"the number you have entered is an odd number\")\n"
      ],
      "execution_count": 12,
      "outputs": [
        {
          "output_type": "stream",
          "name": "stdout",
          "text": [
            "Please enter an odd or even number : 24657890\n",
            "You have entered the number :24657890\n",
            "the number you have entered is an even number\n"
          ]
        }
      ]
    },
    {
      "cell_type": "code",
      "metadata": {
        "id": "oNXY-CfrlLbE"
      },
      "source": [
        ""
      ],
      "execution_count": null,
      "outputs": []
    },
    {
      "cell_type": "code",
      "metadata": {
        "id": "lyoaBLI8nvRT"
      },
      "source": [
        ""
      ],
      "execution_count": null,
      "outputs": []
    },
    {
      "cell_type": "code",
      "metadata": {
        "id": "TuD1O2R0nvTd"
      },
      "source": [
        ""
      ],
      "execution_count": null,
      "outputs": []
    },
    {
      "cell_type": "code",
      "metadata": {
        "id": "1uWxo8AxnvVN"
      },
      "source": [
        ""
      ],
      "execution_count": null,
      "outputs": []
    },
    {
      "cell_type": "code",
      "metadata": {
        "id": "32ld2T0onvZE"
      },
      "source": [
        ""
      ],
      "execution_count": null,
      "outputs": []
    },
    {
      "cell_type": "code",
      "metadata": {
        "id": "DGwOthAbnvaw"
      },
      "source": [
        ""
      ],
      "execution_count": null,
      "outputs": []
    },
    {
      "cell_type": "code",
      "metadata": {
        "id": "6_iDEhq5nvd8"
      },
      "source": [
        ""
      ],
      "execution_count": null,
      "outputs": []
    },
    {
      "cell_type": "markdown",
      "metadata": {
        "id": "io_27RSlizno"
      },
      "source": [
        "# Bonus:\n",
        "\n",
        "1.\tIf the number is a multiple of 4, print out a different message.\n",
        "\n",
        "2.\tAsk the user for two numbers: one number to check (call it num) and one number to divide by (check). If check divides evenly into num, tell that to the user. If not, print a different appropriate message.\n"
      ]
    },
    {
      "cell_type": "code",
      "metadata": {
        "id": "Dh1o5cAylSHB",
        "colab": {
          "base_uri": "https://localhost:8080/"
        },
        "outputId": "928d8a4c-1ca6-4b56-b8ff-facd8adaa40d"
      },
      "source": [
        "number = input (\"Please enter an odd or even number : \")\n",
        "print(\"You have entered the number :\" + number)\n",
        "if int(number) % 2 == 0 :\n",
        "  print(\"the number you have entered is an even number\")\n",
        "elif int(number) % 2 == 1:\n",
        "  print(\"the number you have entered is an odd number\")\n",
        "################\n",
        "###bonus point\n",
        "#question 1\n",
        "if int(number) % 4 == 0 :\n",
        "  print(\"The number you have entered is an even number and a multiple of 4\")\n",
        "elif int(number)% 2 !=0:\n",
        "  print(\"The number you have entered is not even.Therefore, is not multiple of 4 \")\n",
        "#question 2\n",
        "\n",
        "num = input(\"Please enter your (check) number: \")\n",
        "devisor = input(\"Please enter your devisor: \")\n",
        "num = int(num)\n",
        "devisor = int(devisor)\n",
        "result = num/devisor\n",
        "modul = num % devisor\n",
        "modul = int(modul)\n",
        "if modul  == 0:\n",
        "  print(\"the check divides evenly into num and that is : \" , result)\n",
        "else:\n",
        "  print(\"There is a remainder into your calculation! and that is : \",modul)"
      ],
      "execution_count": 60,
      "outputs": [
        {
          "output_type": "stream",
          "name": "stdout",
          "text": [
            "Please enter an odd or even number : 39\n",
            "You have entered the number :39\n",
            "the number you have entered is an odd number\n",
            "The number you have entered is not even.Therefore, is not multiple of 4 \n",
            "Please enter your (check) number: 49\n",
            "Please enter your devisor: 9\n",
            "There is a remainder into your calculation! and that is :  4\n"
          ]
        }
      ]
    },
    {
      "cell_type": "code",
      "metadata": {
        "id": "X2X4dTbfnu0M"
      },
      "source": [
        ""
      ],
      "execution_count": null,
      "outputs": []
    }
  ]
}